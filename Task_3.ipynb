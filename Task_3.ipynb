{
 "cells": [
  {
   "cell_type": "code",
   "execution_count": 200,
   "id": "019b2c6c",
   "metadata": {},
   "outputs": [],
   "source": [
    "my_file = open(\"test.txt\", \"w\")\n"
   ]
  },
  {
   "cell_type": "code",
   "execution_count": 201,
   "id": "28a54563",
   "metadata": {},
   "outputs": [],
   "source": [
    "text_list = [\"hello world\\n\", \"hello world\\n\", \"hello world\\n\", \"hello world\\n\",\"hello world\"]\n"
   ]
  },
  {
   "cell_type": "code",
   "execution_count": 202,
   "id": "80e14b03",
   "metadata": {},
   "outputs": [],
   "source": [
    "my_file.writelines(text_list)"
   ]
  },
  {
   "cell_type": "code",
   "execution_count": 203,
   "id": "16720ca4",
   "metadata": {},
   "outputs": [],
   "source": [
    "my_file.close()"
   ]
  },
  {
   "cell_type": "code",
   "execution_count": 204,
   "id": "28b24fcf",
   "metadata": {},
   "outputs": [],
   "source": [
    "my_file = open(\"test.txt\")"
   ]
  },
  {
   "cell_type": "code",
   "execution_count": 205,
   "id": "acddc072",
   "metadata": {},
   "outputs": [],
   "source": [
    "content = my_file.read().upper()"
   ]
  },
  {
   "cell_type": "code",
   "execution_count": 206,
   "id": "1135be68",
   "metadata": {},
   "outputs": [],
   "source": [
    "my_file.close()"
   ]
  },
  {
   "cell_type": "code",
   "execution_count": 207,
   "id": "310e80a7",
   "metadata": {},
   "outputs": [
    {
     "name": "stdout",
     "output_type": "stream",
     "text": [
      "HELLO WORLD\n",
      "HELLO WORLD\n",
      "HELLO WORLD\n",
      "HELLO WORLD\n",
      "HELLO WORLD\n"
     ]
    }
   ],
   "source": [
    "print(content)"
   ]
  },
  {
   "cell_type": "code",
   "execution_count": 208,
   "id": "6c78f611",
   "metadata": {},
   "outputs": [
    {
     "name": "stdout",
     "output_type": "stream",
     "text": [
      "HELLO WORLD\n",
      "HELLO WORLD\n",
      "HELLO WORLD\n",
      "HELLO WORLD\n",
      "HELLO WORLD\n"
     ]
    }
   ],
   "source": [
    "with open('test.txt', 'w+') as file:\n",
    "    file.write(content)\n",
    "    file.seek(0)\n",
    "    print(file.read())"
   ]
  },
  {
   "cell_type": "code",
   "execution_count": 209,
   "id": "b61087cc",
   "metadata": {},
   "outputs": [
    {
     "name": "stdout",
     "output_type": "stream",
     "text": [
      "37\n"
     ]
    }
   ],
   "source": [
    "with open('test.txt', 'r') as file:\n",
    "    file.seek(26)\n",
    "    rad = file.read(11).capitalize()\n",
    "    print(file.tell())"
   ]
  },
  {
   "cell_type": "code",
   "execution_count": 210,
   "id": "b1d0de19",
   "metadata": {},
   "outputs": [],
   "source": [
    "with open('test.txt', 'a') as apend:\n",
    "    apend.write('\\nI Love python')"
   ]
  },
  {
   "cell_type": "code",
   "execution_count": null,
   "id": "d766288f",
   "metadata": {},
   "outputs": [],
   "source": []
  },
  {
   "cell_type": "code",
   "execution_count": null,
   "id": "8d42d1ca",
   "metadata": {},
   "outputs": [],
   "source": []
  }
 ],
 "metadata": {
  "kernelspec": {
   "display_name": "Python 3",
   "language": "python",
   "name": "python3"
  },
  "language_info": {
   "codemirror_mode": {
    "name": "ipython",
    "version": 3
   },
   "file_extension": ".py",
   "mimetype": "text/x-python",
   "name": "python",
   "nbconvert_exporter": "python",
   "pygments_lexer": "ipython3",
   "version": "3.8.8"
  }
 },
 "nbformat": 4,
 "nbformat_minor": 5
}
